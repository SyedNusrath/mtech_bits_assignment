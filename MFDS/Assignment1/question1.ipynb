{
 "metadata": {
  "language_info": {
   "codemirror_mode": {
    "name": "ipython",
    "version": 3
   },
   "file_extension": ".py",
   "mimetype": "text/x-python",
   "name": "python",
   "nbconvert_exporter": "python",
   "pygments_lexer": "ipython3",
   "version": "3.7.2"
  },
  "orig_nbformat": 2,
  "kernelspec": {
   "name": "python372jvsc74a57bd0615c0923caeaea9162803b05ef27cd7afd6910eddd0d7bdda9ac8f8bd593535f",
   "display_name": "Python 3.7.2 64-bit ('conda3.7.2': conda)"
  }
 },
 "nbformat": 4,
 "nbformat_minor": 2,
 "cells": [
  {
   "cell_type": "code",
   "execution_count": 3,
   "metadata": {},
   "outputs": [],
   "source": [
    "import numpy as np\n",
    "import util as ut"
   ]
  },
  {
   "cell_type": "code",
   "execution_count": 4,
   "metadata": {},
   "outputs": [
    {
     "output_type": "stream",
     "name": "stdout",
     "text": [
      "Original Random 2x2 Coefficient Matrix A:\n [[0.17160271 0.427109  ]\n [0.38550681 0.59327384]]\nOriginal Random Vector Matrix B:\n [[0.97461239]\n [0.0580911 ]]\n"
     ]
    }
   ],
   "source": [
    "import numpy as np\n",
    "A = np.random.rand(2,2)\n",
    "f = np.random.rand(2,1)\n",
    "print(\"Original Random 2x2 Coefficient Matrix A:\\n\",A)\n",
    "print(\"Original Random Vector Matrix B:\\n\",f)"
   ]
  },
  {
   "cell_type": "code",
   "execution_count": 6,
   "metadata": {},
   "outputs": [
    {
     "output_type": "stream",
     "name": "stdout",
     "text": [
      "Executing 2x2 system of equations with Pivot for  3  significant digits!!\n\n\nRandom 2x2 Coefficient Matrix A of  3  significant digits:\n [[0.172 0.427]\n [0.386 0.593]]\nRandom Vector Matrix B of  3  significant digits:\n [[0.975]\n [0.058]]\nEquations which must be solved based on above matrix:\n[0.172*x1 + 0.427*x2] = [[0.975]]\n[0.386*x1 + 0.593*x2] = [[0.058]]\nSolution is as below:\n[-8.80859835  5.83156655]\n****************************************************************************************************\nExecuting 2x2 system of equations with Pivot for  4  significant digits!!\n\n\nRandom 2x2 Coefficient Matrix A of  4  significant digits:\n [[0.1716 0.4271]\n [0.3855 0.5933]]\nRandom Vector Matrix B of  4  significant digits:\n [[0.9746]\n [0.0581]]\nEquations which must be solved based on above matrix:\n[0.1716*x1 + 0.4271*x2] = [[0.9746]]\n[0.3855*x1 + 0.5933*x2] = [[0.0581]]\nSolution is as below:\n[-8.80719474  5.82045099]\n****************************************************************************************************\nExecuting 2x2 system of equations with Pivot for  5  significant digits!!\n\n\nRandom 2x2 Coefficient Matrix A of  5  significant digits:\n [[0.1716  0.42711]\n [0.38551 0.59327]]\nRandom Vector Matrix B of  5  significant digits:\n [[0.97461]\n [0.05809]]\nEquations which must be solved based on above matrix:\n[0.1716*x1 + 0.42711*x2] = [[0.97461]]\n[0.38551*x1 + 0.59327*x2] = [[0.05809]]\nSolution is as below:\n[-8.80502254  5.8194654 ]\n****************************************************************************************************\nExecuting 2x2 system of equations with Pivot for  6  significant digits!!\n\n\nRandom 2x2 Coefficient Matrix A of  6  significant digits:\n [[0.171603 0.427109]\n [0.385507 0.593274]]\nRandom Vector Matrix B of  6  significant digits:\n [[0.974612]\n [0.058091]]\nEquations which must be solved based on above matrix:\n[0.171603*x1 + 0.427109*x2] = [[0.974612]]\n[0.385507*x1 + 0.593274*x2] = [[0.058091]]\nSolution is as below:\n[-8.80567664  5.81980836]\n****************************************************************************************************\n"
     ]
    }
   ],
   "source": [
    "for val in [3,4,5,6]:\n",
    "    print(ut.gauss_elimination_pivot(A, f,val))\n",
    "    print(\"*\"*100)"
   ]
  },
  {
   "cell_type": "code",
   "execution_count": 7,
   "metadata": {},
   "outputs": [
    {
     "output_type": "stream",
     "name": "stdout",
     "text": [
      "Executing 2x2 system of equations without Pivot for  3  significant digits!!\n\nRandom 2x2 Coefficient Matrix A of  3  significant digits:\n [[0.172 0.427]\n [0.386 0.593]]\nRandom Vector Matrix B of  3  significant digits:\n [[0.975]\n [0.058]]\nEquations which must be solved based on above matrix:\n[0.172*x1 + 0.427*x2] = [[0.975]]\n[0.386*x1 + 0.593*x2] = [[0.058]]\n\nSolution is as below:\n[-8.80859835  5.83156655]\n****************************************************************************************************\nExecuting 2x2 system of equations without Pivot for  4  significant digits!!\n\nRandom 2x2 Coefficient Matrix A of  4  significant digits:\n [[0.1716 0.4271]\n [0.3855 0.5933]]\nRandom Vector Matrix B of  4  significant digits:\n [[0.9746]\n [0.0581]]\nEquations which must be solved based on above matrix:\n[0.1716*x1 + 0.4271*x2] = [[0.9746]]\n[0.3855*x1 + 0.5933*x2] = [[0.0581]]\n\nSolution is as below:\n[-8.80719474  5.82045099]\n****************************************************************************************************\nExecuting 2x2 system of equations without Pivot for  5  significant digits!!\n\nRandom 2x2 Coefficient Matrix A of  5  significant digits:\n [[0.1716  0.42711]\n [0.38551 0.59327]]\nRandom Vector Matrix B of  5  significant digits:\n [[0.97461]\n [0.05809]]\nEquations which must be solved based on above matrix:\n[0.1716*x1 + 0.42711*x2] = [[0.97461]]\n[0.38551*x1 + 0.59327*x2] = [[0.05809]]\n\nSolution is as below:\n[-8.80502254  5.8194654 ]\n****************************************************************************************************\nExecuting 2x2 system of equations without Pivot for  6  significant digits!!\n\nRandom 2x2 Coefficient Matrix A of  6  significant digits:\n [[0.171603 0.427109]\n [0.385507 0.593274]]\nRandom Vector Matrix B of  6  significant digits:\n [[0.974612]\n [0.058091]]\nEquations which must be solved based on above matrix:\n[0.171603*x1 + 0.427109*x2] = [[0.974612]]\n[0.385507*x1 + 0.593274*x2] = [[0.058091]]\n\nSolution is as below:\n[-8.80567664  5.81980836]\n****************************************************************************************************\n"
     ]
    }
   ],
   "source": [
    "for val in [3,4,5,6]:\n",
    "    print(ut.gauss_elimination_without_pivot(A, f,val))\n",
    "    print(\"*\"*100)"
   ]
  },
  {
   "cell_type": "code",
   "execution_count": null,
   "metadata": {},
   "outputs": [],
   "source": []
  }
 ]
}