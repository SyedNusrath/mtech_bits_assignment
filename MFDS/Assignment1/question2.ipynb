{
 "metadata": {
  "language_info": {
   "codemirror_mode": {
    "name": "ipython",
    "version": 3
   },
   "file_extension": ".py",
   "mimetype": "text/x-python",
   "name": "python",
   "nbconvert_exporter": "python",
   "pygments_lexer": "ipython3",
   "version": "3.7.2"
  },
  "orig_nbformat": 2,
  "kernelspec": {
   "name": "python372jvsc74a57bd0615c0923caeaea9162803b05ef27cd7afd6910eddd0d7bdda9ac8f8bd593535f",
   "display_name": "Python 3.7.2 64-bit ('conda3.7.2': conda)"
  }
 },
 "nbformat": 4,
 "nbformat_minor": 2,
 "cells": [
  {
   "cell_type": "code",
   "execution_count": 1,
   "metadata": {},
   "outputs": [],
   "source": [
    "import numpy as np\n",
    "import util as ut"
   ]
  },
  {
   "cell_type": "code",
   "execution_count": 12,
   "metadata": {},
   "outputs": [],
   "source": [
    "row_num = 3\n",
    "col_num = 3\n",
    "ITERATIONS = 10\n",
    "A,B = ut.get_ds_matrix(row_num,col_num,precision=4,method = 'siedel',iterations = 10000)\n"
   ]
  },
  {
   "cell_type": "code",
   "execution_count": 13,
   "metadata": {},
   "outputs": [
    {
     "output_type": "stream",
     "name": "stdout",
     "text": [
      "\n\n    Input A is \n            [[ 0.4642 -0.0314 -0.0444]\n [-0.421  -1.0684  0.0939]\n [ 0.3329 -0.6234 -1.1184]]\n\n    Input B is \n            [0.57127568 0.91674439 0.84064715]\n\n    Input x is \n            [0.48839445 0.61292352 0.24290213]\n    \n    \n[ 1.29536047 -1.34713837  0.38482154]\n[ 1.17634987 -1.28776951  0.31630475]\n[ 1.17381225 -1.2927914   0.31834863]\n[ 1.17366804 -1.29255494  0.3181739 ]\n[ 1.17366732 -1.29257001  0.31818209]\n[ 1.17366709 -1.2925692   0.31818157]\n[ 1.17366709 -1.29256925  0.31818159]\n[ 1.17366709 -1.29256925  0.31818159]\n[ 1.17366709 -1.29256925  0.31818159]\n[ 1.17366709 -1.29256925  0.31818159]\n****************************************************************************************************\n[ 1.17366709 -1.29256925  0.31818159]\n****************************************************************************************************\n           1         2         3         4         5         6         7  \\\nx0  1.295360  1.176350  1.173812  1.173668  1.173667  1.173667  1.173667   \nx1 -1.347138 -1.287770 -1.292791 -1.292555 -1.292570 -1.292569 -1.292569   \nx2  0.384822  0.316305  0.318349  0.318174  0.318182  0.318182  0.318182   \n\n           8         9        10  \nx0  1.173667  1.173667  1.173667  \nx1 -1.292569 -1.292569 -1.292569  \nx2  0.318182  0.318182  0.318182  \n"
     ]
    }
   ],
   "source": [
    "solution_siedel,iterations_siedel = ut.solve_equations(A,B, n=ITERATIONS,method='siedel')\n",
    "print('*'*100)\n",
    "print(solution_siedel)\n",
    "print('*'*100)\n",
    "print(iterations_siedel)"
   ]
  },
  {
   "cell_type": "code",
   "execution_count": 14,
   "metadata": {},
   "outputs": [
    {
     "output_type": "stream",
     "name": "stdout",
     "text": [
      "\n\n    Input A is \n            [[ 0.4642 -0.0314 -0.0444]\n [-0.421  -1.0684  0.0939]\n [ 0.3329 -0.6234 -1.1184]]\n\n    Input B is \n            [0.57127568 0.91674439 0.84064715]\n\n    Input x is \n            [0.9032735  0.69412234 0.76579098]\n    \n    \n[ 1.35086652 -1.14668173 -0.86969176]\n[ 1.06991718 -1.4667945   0.2896081 ]\n[ 1.15914892 -1.25419817  0.38441342]\n[ 1.18259761 -1.28102739  0.29247198]\n[ 1.17198874 -1.29834787  0.31440636]\n[ 1.17291511 -1.2922397   0.32090304]\n[ 1.17394969 -1.29203375  0.31777407]\n[ 1.17366434 -1.29271642  0.31796722]\n[ 1.17363663 -1.292587    0.31826281]\n[ 1.17367366 -1.29255011  0.31818242]\n****************************************************************************************************\n[ 1.17367366 -1.29255011  0.31818242]\n****************************************************************************************************\n           1         2         3         4         5         6         7  \\\nx0  1.350867  1.069917  1.159149  1.182598  1.171989  1.172915  1.173950   \nx1 -1.146682 -1.466795 -1.254198 -1.281027 -1.298348 -1.292240 -1.292034   \nx2 -0.869692  0.289608  0.384413  0.292472  0.314406  0.320903  0.317774   \n\n           8         9        10  \nx0  1.173664  1.173637  1.173674  \nx1 -1.292716 -1.292587 -1.292550  \nx2  0.317967  0.318263  0.318182  \n"
     ]
    }
   ],
   "source": [
    "solution_jacobi,iterations_jacobi = ut.solve_equations(A,B, n=ITERATIONS,method='jacobi')\n",
    "print('*'*100)\n",
    "print(solution_jacobi)\n",
    "print('*'*100)\n",
    "print(iterations_jacobi)"
   ]
  },
  {
   "cell_type": "code",
   "execution_count": 17,
   "metadata": {},
   "outputs": [
    {
     "output_type": "stream",
     "name": "stdout",
     "text": [
      "\n\n    Input A is \n            [[ 0.4642 -0.0314 -0.0444]\n [-0.421  -1.0684  0.0939]\n [ 0.3329 -0.6234 -1.1184]]\n\n    Input B is \n            [0.57127568 0.91674439 0.84064715]\n\n    Input x is \n            [0.09128724 0.14773999 0.39636649]\n    \n    \n****************************************************************************************************\n[ 1.17366709 -1.29256925  0.31818159]\n****************************************************************************************************\nNone\n"
     ]
    }
   ],
   "source": [
    "solution_simple,iterations_simple = ut.solve_equations(A,B, n=ITERATIONS,method='simple')\n",
    "print('*'*100)\n",
    "print(solution_simple)\n",
    "print('*'*100)\n",
    "print(iterations_simple)"
   ]
  },
  {
   "cell_type": "code",
   "execution_count": null,
   "metadata": {},
   "outputs": [],
   "source": []
  }
 ]
}