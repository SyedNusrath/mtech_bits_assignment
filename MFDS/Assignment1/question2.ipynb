{
 "metadata": {
  "language_info": {
   "codemirror_mode": {
    "name": "ipython",
    "version": 3
   },
   "file_extension": ".py",
   "mimetype": "text/x-python",
   "name": "python",
   "nbconvert_exporter": "python",
   "pygments_lexer": "ipython3",
   "version": "3.7.2"
  },
  "orig_nbformat": 2,
  "kernelspec": {
   "name": "python3",
   "display_name": "Python 3.7.2 64-bit ('conda3.7.2': conda)"
  },
  "interpreter": {
   "hash": "615c0923caeaea9162803b05ef27cd7afd6910eddd0d7bdda9ac8f8bd593535f"
  }
 },
 "nbformat": 4,
 "nbformat_minor": 2,
 "cells": [
  {
   "cell_type": "code",
   "execution_count": 1,
   "metadata": {},
   "outputs": [],
   "source": [
    "import numpy as np\n",
    "import util as ut"
   ]
  },
  {
   "cell_type": "code",
   "execution_count": 2,
   "metadata": {},
   "outputs": [],
   "source": [
    "row_num = 3\n",
    "col_num = 3\n",
    "ITERATIONS = 10\n",
    "A,B = ut.get_ds_matrix(row_num,col_num,precision=4,method = 'siedel',iterations = 10000)\n"
   ]
  },
  {
   "cell_type": "code",
   "execution_count": 3,
   "metadata": {},
   "outputs": [
    {
     "output_type": "stream",
     "name": "stdout",
     "text": [
      "\n\n    Input A is \n            [[-1.1008 -0.5804  0.4647]\n [-0.1151  0.8544 -0.5586]\n [-0.2315 -0.0333  0.355 ]]\n\n    Input B is \n            [0.92143714 0.71774624 0.12688243]\n\n    Input x is \n            [0.56293186 0.87061193 0.29695677]\n    \n    \nIterations completed 7, Early stopping value 0\n****************************************************************************************************\n[-1.22947466  0.41206359 -0.40568798]\n****************************************************************************************************\n           1         2         3         4         5         6         7\nx0 -1.170734 -1.435893 -1.293551 -1.195381 -1.200783 -1.224314 -1.229475\nx1  0.876492  0.434914  0.313959  0.380453  0.425657  0.422957  0.412064\nx2 -0.323818 -0.538153 -0.456675 -0.386420 -0.385702 -0.401301 -0.405688\n"
     ]
    }
   ],
   "source": [
    "solution_siedel,iterations_siedel = ut.solve_equations(A,B, n=ITERATIONS,method='siedel',if_earlystopping=True,early_stopping_per=1)\n",
    "print('*'*100)\n",
    "print(solution_siedel)\n",
    "print('*'*100)\n",
    "print(iterations_siedel)"
   ]
  },
  {
   "cell_type": "code",
   "execution_count": 4,
   "metadata": {},
   "outputs": [
    {
     "output_type": "stream",
     "name": "stdout",
     "text": [
      "\n\n    Input A is \n            [[-1.1008 -0.5804  0.4647]\n [-0.1151  0.8544 -0.5586]\n [-0.2315 -0.0333  0.355 ]]\n\n    Input B is \n            [0.92143714 0.71774624 0.12688243]\n\n    Input x is \n            [0.87935123 0.45344834 0.7114511 ]\n    \n    \nIterations completed 10, Early stopping value 2\n****************************************************************************************************\n[-1.21279857  0.4268738  -0.41124778]\n****************************************************************************************************\n           1         2         3         4         5         6         7  \\\nx0 -0.775806 -1.176778 -1.566733 -1.309989 -1.325559 -1.171793 -1.232272   \nx1  1.423661  1.371939  0.671753  0.445095  0.270486  0.363950  0.367318   \nx2  0.973386 -0.014954 -0.281285 -0.601259 -0.455094 -0.481626 -0.372586   \n\n           8         9        10  \nx0 -1.188017 -1.237825 -1.212799  \nx1  0.430460  0.410843  0.426874  \nx2 -0.411710 -0.376927 -0.411248  \n"
     ]
    }
   ],
   "source": [
    "solution_jacobi,iterations_jacobi = ut.solve_equations(A,B, n=ITERATIONS,method='jacobi',if_earlystopping=True,early_stopping_per=1)\n",
    "print('*'*100)\n",
    "print(solution_jacobi)\n",
    "print('*'*100)\n",
    "print(iterations_jacobi)"
   ]
  },
  {
   "cell_type": "code",
   "execution_count": 5,
   "metadata": {},
   "outputs": [
    {
     "output_type": "stream",
     "name": "stdout",
     "text": [
      "\n\n    Input A is \n            [[-1.1008 -0.5804  0.4647]\n [-0.1151  0.8544 -0.5586]\n [-0.2315 -0.0333  0.355 ]]\n\n    Input B is \n            [0.92143714 0.71774624 0.12688243]\n\n    Input x is \n            [0.62108538 0.61131804 0.02263713]\n    \n    \n****************************************************************************************************\n[-1.22417884  0.41217322 -0.40222423]\n****************************************************************************************************\nNone\n"
     ]
    }
   ],
   "source": [
    "solution_simple,iterations_simple = ut.solve_equations(A,B, n=ITERATIONS,method='simple')\n",
    "print('*'*100)\n",
    "print(solution_simple)\n",
    "print('*'*100)\n",
    "print(iterations_simple)"
   ]
  },
  {
   "cell_type": "code",
   "execution_count": 6,
   "metadata": {},
   "outputs": [
    {
     "output_type": "stream",
     "name": "stdout",
     "text": [
      "\n\n    Input A is \n            [[ 0.4988  0.2102 -0.5243]\n [-0.8105  0.6784  0.1274]\n [-1.1112 -0.7524  1.5202]]\n\n    Input B is \n            [0.52452633 0.74018552 0.42060709]\n\n    Input x is \n            [0.0932954  0.07349021 0.14144316]\n    \n    \nIterations completed 10, Early stopping value 3\n****************************************************************************************************\n[ 8.12633589  8.8938729  10.61856434]\n****************************************************************************************************\n           1         2         3         4         5         6         7  \\\nx0  1.169281  2.484045  3.608463  4.576686  5.409965  6.127138  6.744380   \nx1  2.461480  3.617570  4.673006  5.577317  6.355894  7.025967  7.602673   \nx2  2.349644  3.882869  5.227142  6.382446  7.376881  8.232746  8.969355   \n\n           8          9         10  \nx0  7.275616   7.732830   8.126336  \nx1  8.099022   8.526209   8.893873  \nx2  9.603326  10.148959  10.618564  \n"
     ]
    }
   ],
   "source": [
    "A,B = ut.get_nonds_matrix(row_num,col_num,precision=4,method = 'siedel',iterations = 10000)\n",
    "\n",
    "solution_ndd,iterations_ndd = ut.solve_equations(A,B, n=ITERATIONS,method='siedel')\n",
    "print('*'*100)\n",
    "print(solution_ndd)\n",
    "print('*'*100)\n",
    "print(iterations_ndd)"
   ]
  },
  {
   "cell_type": "code",
   "execution_count": null,
   "metadata": {},
   "outputs": [],
   "source": []
  }
 ]
}