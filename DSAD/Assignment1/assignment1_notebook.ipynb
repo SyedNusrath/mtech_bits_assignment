{
 "cells": [
  {
   "cell_type": "code",
   "execution_count": 1,
   "metadata": {},
   "outputs": [],
   "source": [
    "import assignment1 as a1"
   ]
  },
  {
   "cell_type": "code",
   "execution_count": 2,
   "metadata": {},
   "outputs": [
    {
     "name": "stdout",
     "output_type": "stream",
     "text": [
      "DETAIL:ce\n",
      "Acquired companies: none\n",
      "No of companies acquired: 0\n",
      "ACQUIRED SUCCESS:ce Successfully acquired aviation\n",
      "ACQUIRED SUCCESS:ce Successfully acquired power\n",
      "ACQUIRED SUCCESS:ce Successfully acquired healthcare\n",
      "DETAIL:ce\n",
      "Acquired companies: aviation,power,healthcare\n",
      "No of companies acquired: 3\n",
      "ACQUIRED SUCCESS:aviation Successfully acquired additive\n",
      "ACQUIRED FAILED: additive BY:aviation\n",
      "DETAIL:aviation\n",
      "Acquired companies: additive\n",
      "No of companies acquired: 1\n",
      "RELEASED SUCCESS: released additive successfully.\n",
      "RELEASED FAILED: released additive failed.\n",
      "ACQUIRED SUCCESS:aviation Successfully acquired additive\n",
      "ACQUIRED SUCCESS:power Successfully acquired wind-energy\n",
      "ACQUIRED SUCCESS:power Successfully acquired solar-energy\n",
      "ACQUIRED SUCCESS:power Successfully acquired appliances\n",
      "ACQUIRED SUCCESS:healthcare Successfully acquired ct-manufacturer\n",
      "ACQUIRED SUCCESS:healthcare Successfully acquired lifescience\n",
      "ACQUIRED SUCCESS:healthcare Successfully acquired pharma\n",
      "DETAIL:ce\n",
      "Acquired companies: aviation,power,healthcare\n",
      "No of companies acquired: 3\n",
      "DETAIL:aviation\n",
      "Acquired companies: additive\n",
      "No of companies acquired: 1\n",
      "DETAIL:power\n",
      "Acquired companies: wind-energy,solar-energy,appliances\n",
      "No of companies acquired: 3\n",
      "DETAIL:lifescience\n",
      "Acquired companies: none\n",
      "No of companies acquired: 0\n"
     ]
    }
   ],
   "source": [
    "input_path = \".\\inputPS5.txt\"\r\n",
    "output_path = \".\\outputPS5.txt\"\r\n",
    "da = a1.dsad_assignment1(input_path,output_path,first_node_name='ce',num_oper = 100)\r\n",
    "da.run_job()"
   ]
  },
  {
   "cell_type": "code",
   "execution_count": null,
   "metadata": {},
   "outputs": [],
   "source": []
  }
 ],
 "metadata": {
  "kernelspec": {
   "display_name": "Python 3.7.2 64-bit ('conda3.7.2': conda)",
   "name": "conda3.7.2"
  },
  "language_info": {
   "codemirror_mode": {
    "name": "ipython",
    "version": 3
   },
   "file_extension": ".py",
   "mimetype": "text/x-python",
   "name": "python",
   "nbconvert_exporter": "python",
   "pygments_lexer": "ipython3",
   "version": "3.7.2"
  },
  "orig_nbformat": 4
 },
 "nbformat": 4,
 "nbformat_minor": 2
}