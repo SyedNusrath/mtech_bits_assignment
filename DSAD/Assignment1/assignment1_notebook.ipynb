{
 "cells": [
  {
   "cell_type": "code",
   "execution_count": 1,
   "metadata": {},
   "outputs": [],
   "source": [
    "import assignment1 as a1"
   ]
  },
  {
   "cell_type": "code",
   "execution_count": 2,
   "metadata": {},
   "outputs": [
    {
     "name": "stdout",
     "output_type": "stream",
     "text": [
      "DETAIL:ce\n",
      "Acquired companies: none\n",
      "No of companies acquired: 0\n",
      "ACQUIRED SUCCESS:ce Successfully acquired aviation\n",
      "ACQUIRED SUCCESS:ce Successfully acquired power\n",
      "ACQUIRED SUCCESS:ce Successfully acquired healthcare\n",
      "DETAIL:ce\n",
      "Acquired companies: aviation,power,healthcare\n",
      "No of companies acquired: 3\n",
      "ACQUIRED SUCCESS:aviation Successfully acquired additive\n"
     ]
    }
   ],
   "source": [
    "input_path = \".\\inputPS5.txt\"\r\n",
    "output_path = \".\\outputPS5.txt\"\r\n",
    "da = a1.dsad_assignment1(input_path,output_path,first_node_name='ce',num_oper = 100)\r\n",
    "da.run_job()"
   ]
  },
  {
   "cell_type": "code",
   "execution_count": null,
   "metadata": {},
   "outputs": [],
   "source": []
  }
 ],
 "metadata": {
  "kernelspec": {
   "display_name": "Python 3.7.2 64-bit ('conda3.7.2': conda)",
   "name": "conda3.7.2"
  },
  "language_info": {
   "codemirror_mode": {
    "name": "ipython",
    "version": 3
   },
   "file_extension": ".py",
   "mimetype": "text/x-python",
   "name": "python",
   "nbconvert_exporter": "python",
   "pygments_lexer": "ipython3",
   "version": "3.7.2"
  },
  "orig_nbformat": 4
 },
 "nbformat": 4,
 "nbformat_minor": 2
}